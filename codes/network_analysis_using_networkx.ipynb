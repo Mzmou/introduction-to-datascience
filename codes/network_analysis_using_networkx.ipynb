{
  "nbformat": 4,
  "nbformat_minor": 0,
  "metadata": {
    "colab": {
      "provenance": []
    },
    "kernelspec": {
      "name": "python3",
      "display_name": "Python 3"
    },
    "language_info": {
      "name": "python"
    }
  },
  "cells": [
    {
      "cell_type": "code",
      "execution_count": null,
      "metadata": {
        "colab": {
          "base_uri": "https://localhost:8080/",
          "height": 422
        },
        "id": "6DY512Yn9aN5",
        "outputId": "50ed5f24-53b0-44cd-c3dd-01b388678eb8"
      },
      "outputs": [
        {
          "output_type": "display_data",
          "data": {
            "text/plain": [
              "<Figure size 500x500 with 1 Axes>"
            ],
            "image/png": "[encoded data removed]"
          },
          "metadata": {}
        }
      ],
      "source": [
        "\n",
        "import matplotlib.pyplot as plt\n",
        "import networkx as nx\n",
        "\n",
        "G = nx.path_graph(4)\n",
        "\n",
        "plt.figure(figsize =(5, 5))\n",
        "nx.draw_networkx(G, with_labels = True)"
      ]
    },
    {
      "cell_type": "code",
      "source": [
        "G = nx.path_graph(4)\n",
        "centrality = nx.eigenvector_centrality(G)\n",
        "sorted((v, f\"{c:0.2f}\") for v, c in centrality.items())"
      ],
      "metadata": {
        "colab": {
          "base_uri": "https://localhost:8080/"
        },
        "id": "6QK22ggNB-bX",
        "outputId": "b6dd6310-fabc-415a-af7b-fb70b9050f37"
      },
      "execution_count": null,
      "outputs": [
        {
          "output_type": "execute_result",
          "data": {
            "text/plain": [
              "[(0, '0.37'), (1, '0.60'), (2, '0.60'), (3, '0.37')]"
            ]
          },
          "metadata": {},
          "execution_count": 9
        }
      ]
    },
    {
      "cell_type": "code",
      "source": [
        "\n",
        "deg_centrality = nx.degree_centrality(G)\n",
        "\n",
        "# G is the Karate Club Graph\n",
        "print(deg_centrality)"
      ],
      "metadata": {
        "colab": {
          "base_uri": "https://localhost:8080/"
        },
        "id": "6sD-zv-v9dNM",
        "outputId": "1e487f75-7e85-4f6c-d3f7-8678bed81b32"
      },
      "execution_count": null,
      "outputs": [
        {
          "output_type": "stream",
          "name": "stdout",
          "text": [
            "{0: 0.3333333333333333, 1: 0.6666666666666666, 2: 0.6666666666666666, 3: 0.3333333333333333}\n"
          ]
        }
      ]
    },
    {
      "cell_type": "code",
      "source": [
        "\n",
        "close_centrality = nx.closeness_centrality(G)\n",
        "\n",
        "# G is the Karate Social Graph\n",
        "print(close_centrality)"
      ],
      "metadata": {
        "colab": {
          "base_uri": "https://localhost:8080/"
        },
        "id": "gflSK0af9nlU",
        "outputId": "7cc6eb64-b09e-4d20-c733-ffad1c97e223"
      },
      "execution_count": null,
      "outputs": [
        {
          "output_type": "stream",
          "name": "stdout",
          "text": [
            "{0: 0.5, 1: 0.75, 2: 0.75, 3: 0.5}\n"
          ]
        }
      ]
    },
    {
      "cell_type": "code",
      "source": [
        "\n",
        "bet_centrality = nx.betweenness_centrality(G, normalized = True,\n",
        "                                              endpoints = False)\n",
        "\n",
        "\n",
        "print(bet_centrality)"
      ],
      "metadata": {
        "colab": {
          "base_uri": "https://localhost:8080/"
        },
        "id": "mMeEnXVZ9z0L",
        "outputId": "2c7b8443-6528-40c1-d32d-141313b5e20e"
      },
      "execution_count": null,
      "outputs": [
        {
          "output_type": "stream",
          "name": "stdout",
          "text": [
            "{0: 0.0, 1: 0.6666666666666666, 2: 0.6666666666666666, 3: 0.0}\n"
          ]
        }
      ]
    },
    {
      "cell_type": "code",
      "source": [
        "\n",
        "pr = nx.pagerank(G, alpha = 0.8)\n",
        "\n",
        "# G is the Karate Social Graph\n",
        "print(pr)"
      ],
      "metadata": {
        "colab": {
          "base_uri": "https://localhost:8080/"
        },
        "id": "Ztwu0x9H96KO",
        "outputId": "92e7bb95-7e78-4b6c-a558-0c928e70b92f"
      },
      "execution_count": null,
      "outputs": [
        {
          "output_type": "stream",
          "name": "stdout",
          "text": [
            "{0: 0.17857162031103999, 1: 0.32142837968896, 2: 0.32142837968896, 3: 0.17857162031103999}\n"
          ]
        }
      ]
    }
  ]
}